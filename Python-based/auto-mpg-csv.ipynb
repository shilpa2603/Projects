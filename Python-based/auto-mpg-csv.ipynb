{
 "cells": [
  {
   "cell_type": "code",
   "execution_count": null,
   "id": "5db7f2ac-0ba7-4526-8667-1561e6f4a261",
   "metadata": {},
   "outputs": [],
   "source": []
  },
  {
   "cell_type": "code",
   "execution_count": 1,
   "id": "346233ba-9aa0-406f-8082-922ed34fa63b",
   "metadata": {
    "tags": []
   },
   "outputs": [],
   "source": [
    "import pandas as pd\n",
    "import matplotlib.pyplot as plt\n",
    "import numpy as np\n",
    "import seaborn as sns"
   ]
  },
  {
   "cell_type": "code",
   "execution_count": 2,
   "id": "ae965bb9-059d-4b14-b600-b56f94ceab40",
   "metadata": {},
   "outputs": [
    {
     "name": "stdout",
     "output_type": "stream",
     "text": [
      "    mpg  cyl  displ   hp  weight  accel  yr  origin  \\\n",
      "0    18    8    307  130    3504   12.0  70       1   \n",
      "1    15    8    350  165    3693   11.5  70       1   \n",
      "2    18    8    318  150    3436   11.0  70       1   \n",
      "3    16    8    304  150    3433   12.0  70       1   \n",
      "4    17    8    302  140    3449   10.5  70       1   \n",
      "5    15    8    429  198    4341   10.0  70       1   \n",
      "6    14    8    454  220    4354    9.0  70       1   \n",
      "7    14    8    440  215    4312    8.5  70       1   \n",
      "8    14    8    455  225    4425   10.0  70       1   \n",
      "9    15    8    390  190    3850    8.5  70       1   \n",
      "10   15    8    383  170    3563   10.0  70       1   \n",
      "11   14    8    340  160    3609    8.0  70       1   \n",
      "12   15    8    400  150    3761    9.5  70       1   \n",
      "13   14    8    455  225    3086   10.0  70       1   \n",
      "14   24    4    113   95    2372   15.0  70       3   \n",
      "15   22    6    198   95    2833   15.5  70       1   \n",
      "16   18    6    199   97    2774   15.5  70       1   \n",
      "17   21    6    200   85    2587   16.0  70       1   \n",
      "18   27    4     97   88    2130   14.5  70       3   \n",
      "19   26    4     97   46    1835   20.5  70       2   \n",
      "20   25    4    110   87    2672   17.5  70       2   \n",
      "21   24    4    107   90    2430   14.5  70       2   \n",
      "22   25    4    104   95    2375   17.5  70       2   \n",
      "23   26    4    121  113    2234   12.5  70       2   \n",
      "24   21    6    199   90    2648   15.0  70       1   \n",
      "\n",
      "                            name  \n",
      "0      chevrolet chevelle malibu  \n",
      "1              buick skylark 320  \n",
      "2             plymouth satellite  \n",
      "3                  amc rebel sst  \n",
      "4                    ford torino  \n",
      "5               ford galaxie 500  \n",
      "6               chevrolet impala  \n",
      "7              plymouth fury iii  \n",
      "8               pontiac catalina  \n",
      "9             amc ambassador dpl  \n",
      "10           dodge challenger se  \n",
      "11            plymouth 'cuda 340  \n",
      "12         chevrolet monte carlo  \n",
      "13       buick estate wagon (sw)  \n",
      "14         toyota corona mark ii  \n",
      "15               plymouth duster  \n",
      "16                    amc hornet  \n",
      "17                 ford maverick  \n",
      "18                  datsun pl510  \n",
      "19  volkswagen 1131 deluxe sedan  \n",
      "20                   peugeot 504  \n",
      "21                   audi 100 ls  \n",
      "22                      saab 99e  \n",
      "23                      bmw 2002  \n",
      "24                   amc gremlin  \n",
      "<class 'pandas.core.frame.DataFrame'>\n",
      "RangeIndex: 25 entries, 0 to 24\n",
      "Data columns (total 9 columns):\n",
      " #   Column  Non-Null Count  Dtype  \n",
      "---  ------  --------------  -----  \n",
      " 0   mpg     25 non-null     int64  \n",
      " 1   cyl     25 non-null     int64  \n",
      " 2   displ   25 non-null     int64  \n",
      " 3   hp      25 non-null     int64  \n",
      " 4   weight  25 non-null     int64  \n",
      " 5   accel   25 non-null     float64\n",
      " 6   yr      25 non-null     int64  \n",
      " 7   origin  25 non-null     int64  \n",
      " 8   name    25 non-null     object \n",
      "dtypes: float64(1), int64(7), object(1)\n",
      "memory usage: 1.9+ KB\n"
     ]
    }
   ],
   "source": [
    "path_xl = \"auto-mpg.csv\"\n",
    "df = pd.read_csv(path_xl)\n",
    "print(df)\n",
    "df.info()"
   ]
  },
  {
   "cell_type": "code",
   "execution_count": null,
   "id": "daae2b9a-316b-48fa-8f42-96974f2eede2",
   "metadata": {
    "tags": []
   },
   "outputs": [],
   "source": [
    "plt.scatter(df.mpg, df.hp, color='purple')\n",
    "plt.xlabel('mpg')\n",
    "plt.ylabel('hp')\n",
    "plt.grid()\n",
    "plt.axhline()\n",
    "plt.axvline()\n",
    "plt.show()"
   ]
  },
  {
   "cell_type": "code",
   "execution_count": null,
   "id": "1ac9cebd-142e-4ce5-a131-4e1e6f696d07",
   "metadata": {
    "tags": []
   },
   "outputs": [],
   "source": [
    "plt.figure(figsize=(6, 6))\n",
    "plt.scatter('mpg', 'hp', data=df[df.name.str.contains('chevrolet')], marker='o', color='red', label='chevrolet')\n",
    "plt.scatter('mpg', 'hp', data=df[df.name.str.contains('volkswagen')], marker='o', color='blue', label='volkswagen')\n",
    "plt.scatter('mpg', 'hp', data=df[df.name.str.contains('toyota')], marker='o', color='green', label='toyota')\n",
    "plt.scatter('mpg', 'hp', data=df[df.name.str.contains('ford')], marker='o', color='yellow', label='ford')\n",
    "plt.scatter('mpg', 'hp', data=df[df.name.str.contains('datsun')], marker='o', color='grey', label='datsun')\n",
    "plt.scatter('mpg', 'hp', data=df[df.name.str.contains('bmw')], marker='o', color='cyan', label='bmw')\n",
    "plt.legend(bbox_to_anchor = (1.05, 0.6))\n",
    "plt.title('MPG data')\n",
    "plt.xlabel('mpg')\n",
    "plt.ylabel('hp')\n",
    "plt.tick_params(labelsize=20);\n",
    "plt.show()"
   ]
  },
  {
   "cell_type": "code",
   "execution_count": null,
   "id": "942d0bd5-8e1d-435c-abb4-6a7b8ab9ff9f",
   "metadata": {
    "tags": []
   },
   "outputs": [],
   "source": [
    "\n",
    "sns.lmplot(x='weight', y='hp', data=df, height=7)\n",
    "# Display the plot\n",
    "plt.title('MPG data')\n",
    "plt.xlabel('weight')\n",
    "plt.ylabel('hp')\n",
    "plt.show()"
   ]
  },
  {
   "cell_type": "code",
   "execution_count": null,
   "id": "2894afc3-d1ff-4e97-8c70-b9dea9692c5e",
   "metadata": {
    "tags": []
   },
   "outputs": [],
   "source": [
    "sns.pairplot(df[[\"mpg\", \"cyl\", \"displ\", \"weight\"]], diag_kind=\"kde\")"
   ]
  },
  {
   "cell_type": "code",
   "execution_count": null,
   "id": "e11f2497-e691-40c7-8694-197675960807",
   "metadata": {
    "tags": []
   },
   "outputs": [],
   "source": [
    "display(df.describe().round(2))"
   ]
  },
  {
   "cell_type": "code",
   "execution_count": null,
   "id": "7560394f-e5c2-4cd3-be2f-0481988d5d8b",
   "metadata": {},
   "outputs": [],
   "source": [
    "sns.countplot(x = df.origin.values, data=df)\n",
    "\n",
    "sns.countplot(x = df.cyl.values, data=df)"
   ]
  },
  {
   "cell_type": "code",
   "execution_count": null,
   "id": "789cba18-ca09-4c22-b992-b4f0c6fe2ca3",
   "metadata": {},
   "outputs": [],
   "source": [
    "var = 'origin'\n",
    "f, ax = plt.subplots(figsize=(6, 6))\n",
    "fig = sns.boxplot(x=var, y=\"mpg\", data=df)\n",
    "plt.axhline(df.mpg.mean(),color='r',linestyle='dashed',linewidth=2)\n",
    "plt.tick_params(labelsize=20);\n",
    "\n",
    "var = 'yr'\n",
    "f, ax = plt.subplots(figsize=(6, 6))\n",
    "fig = sns.boxplot(x=var, y=\"mpg\", data=df)\n",
    "plt.axhline(df.mpg.mean(),color='r',linestyle='dashed',linewidth=2)\n",
    "plt.tick_params(labelsize=20);\n",
    "\n",
    "var = 'cyl'\n",
    "f, ax = plt.subplots(figsize=(6, 6))\n",
    "fig = sns.boxplot(x=var, y=\"mpg\", data=df)\n",
    "plt.axhline(df.mpg.mean(),color='r',linestyle='dashed',linewidth=2)\n",
    "plt.tick_params(labelsize=20);\n",
    "\n",
    "var = 'weight'\n",
    "sns.set(font_scale = 2)\n",
    "fig = sns.lmplot(x=var, y=\"mpg\", data=df)\n",
    "var = 'displ'\n",
    "fig = sns.lmplot(x=var, y=\"mpg\", data=df)\n",
    "var = 'hp'\n",
    "fig = sns.lmplot(x=var, y=\"mpg\", data=df)\n",
    "var = 'accel'\n",
    "fig = sns.lmplot(x=var, y=\"mpg\", data=df)\n"
   ]
  },
  {
   "cell_type": "code",
   "execution_count": null,
   "id": "2488bdc8-2201-42ee-a813-1e9c48814fd5",
   "metadata": {},
   "outputs": [],
   "source": []
  }
 ],
 "metadata": {
  "kernelspec": {
   "display_name": "Python 3",
   "language": "python",
   "name": "python3"
  },
  "language_info": {
   "codemirror_mode": {
    "name": "ipython",
    "version": 3
   },
   "file_extension": ".py",
   "mimetype": "text/x-python",
   "name": "python",
   "nbconvert_exporter": "python",
   "pygments_lexer": "ipython3",
   "version": "3.8.8"
  }
 },
 "nbformat": 4,
 "nbformat_minor": 5
}
