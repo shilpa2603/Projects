{
 "cells": [
  {
   "cell_type": "code",
   "execution_count": 1,
   "id": "351e3b99-2c79-4cbd-92b4-fee0292923ab",
   "metadata": {},
   "outputs": [],
   "source": [
    "import pandas as pd\n",
    "import numpy as np\n",
    "import matplotlib.pylab as plt\n",
    "import seaborn as sns\n",
    "import plotly.express as px\n",
    "%matplotlib inline\n",
    "from datetime import datetime"
   ]
  },
  {
   "cell_type": "code",
   "execution_count": 2,
   "id": "efd36a70-3e87-4ac0-a85c-64f7450b4046",
   "metadata": {},
   "outputs": [
    {
     "name": "stdout",
     "output_type": "stream",
     "text": [
      "D:\\DATA\\Personal\\Data-Analytics\\Python\\Code\\GL-Case-Study1\n"
     ]
    }
   ],
   "source": [
    "#importing the os module\n",
    "import os\n",
    "\n",
    "#to get the current working directory\n",
    "directory = os.getcwd()\n",
    "\n",
    "print(directory)\n",
    "\n",
    "#os.chdir(\"D:\\DATA\\Personal\\Data-Analytics\\GL\\\")\n"
   ]
  },
  {
   "cell_type": "code",
   "execution_count": 13,
   "id": "32b331a7-71a0-4b38-be44-a584a5710cd5",
   "metadata": {},
   "outputs": [],
   "source": [
    "# Load dataset\n",
    "\n",
    "df = pd.read_excel (r'D:\\DATA\\Personal\\Data-Analytics\\Python\\Code\\GL-Case-Study1\\OnlineRetail.xlsx', sheet_name='Online Retail')\n"
   ]
  },
  {
   "cell_type": "code",
   "execution_count": 14,
   "id": "0baa3957-a0d1-4ec8-ac84-97fac0717ece",
   "metadata": {},
   "outputs": [],
   "source": [
    "df1 = df"
   ]
  },
  {
   "cell_type": "code",
   "execution_count": 12,
   "id": "3b4f64be-594e-41e5-bce4-d6a8b2f2ea09",
   "metadata": {},
   "outputs": [
    {
     "name": "stdout",
     "output_type": "stream",
     "text": [
      "  InvoiceNo StockCode                          Description  Quantity  \\\n",
      "0    536365    85123A   WHITE HANGING HEART T-LIGHT HOLDER         6   \n",
      "1    536365     71053                  WHITE METAL LANTERN         6   \n",
      "2    536365    84406B       CREAM CUPID HEARTS COAT HANGER         8   \n",
      "3    536365    84029G  KNITTED UNION FLAG HOT WATER BOTTLE         6   \n",
      "4    536365    84029E       RED WOOLLY HOTTIE WHITE HEART.         6   \n",
      "\n",
      "          InvoiceDate  UnitPrice CustomerID         Country  \n",
      "0 2010-12-01 08:26:00       2.55      17850  United Kingdom  \n",
      "1 2010-12-01 08:26:00       3.39      17850  United Kingdom  \n",
      "2 2010-12-01 08:26:00       2.75      17850  United Kingdom  \n",
      "3 2010-12-01 08:26:00       3.39      17850  United Kingdom  \n",
      "4 2010-12-01 08:26:00       3.39      17850  United Kingdom  \n",
      "<class 'pandas.core.frame.DataFrame'>\n",
      "Int64Index: 536641 entries, 0 to 541908\n",
      "Data columns (total 8 columns):\n",
      " #   Column       Non-Null Count   Dtype         \n",
      "---  ------       --------------   -----         \n",
      " 0   InvoiceNo    536641 non-null  category      \n",
      " 1   StockCode    536641 non-null  category      \n",
      " 2   Description  535187 non-null  category      \n",
      " 3   Quantity     536641 non-null  int64         \n",
      " 4   InvoiceDate  536641 non-null  datetime64[ns]\n",
      " 5   UnitPrice    536641 non-null  float64       \n",
      " 6   CustomerID   536641 non-null  category      \n",
      " 7   Country      536641 non-null  category      \n",
      "dtypes: category(5), datetime64[ns](1), float64(1), int64(1)\n",
      "memory usage: 22.7 MB\n"
     ]
    }
   ],
   "source": [
    "df1.head()\n",
    "print(df1.head())\n",
    "df1.info()"
   ]
  },
  {
   "cell_type": "code",
   "execution_count": 7,
   "id": "9ba41110-5f13-4cec-803a-359e6f5546ea",
   "metadata": {},
   "outputs": [
    {
     "name": "stdout",
     "output_type": "stream",
     "text": [
      "<class 'pandas.core.frame.DataFrame'>\n",
      "RangeIndex: 541909 entries, 0 to 541908\n",
      "Data columns (total 8 columns):\n",
      " #   Column       Non-Null Count   Dtype         \n",
      "---  ------       --------------   -----         \n",
      " 0   InvoiceNo    541909 non-null  object        \n",
      " 1   StockCode    541909 non-null  object        \n",
      " 2   Description  540455 non-null  object        \n",
      " 3   Quantity     541909 non-null  int64         \n",
      " 4   InvoiceDate  541909 non-null  datetime64[ns]\n",
      " 5   UnitPrice    541909 non-null  float64       \n",
      " 6   CustomerID   541909 non-null  int64         \n",
      " 7   Country      541909 non-null  object        \n",
      "dtypes: datetime64[ns](1), float64(1), int64(2), object(4)\n",
      "memory usage: 33.1+ MB\n"
     ]
    },
    {
     "data": {
      "text/html": [
       "<div>\n",
       "<style scoped>\n",
       "    .dataframe tbody tr th:only-of-type {\n",
       "        vertical-align: middle;\n",
       "    }\n",
       "\n",
       "    .dataframe tbody tr th {\n",
       "        vertical-align: top;\n",
       "    }\n",
       "\n",
       "    .dataframe thead th {\n",
       "        text-align: right;\n",
       "    }\n",
       "</style>\n",
       "<table border=\"1\" class=\"dataframe\">\n",
       "  <thead>\n",
       "    <tr style=\"text-align: right;\">\n",
       "      <th></th>\n",
       "      <th>InvoiceNo</th>\n",
       "      <th>StockCode</th>\n",
       "      <th>Description</th>\n",
       "      <th>Quantity</th>\n",
       "      <th>InvoiceDate</th>\n",
       "      <th>UnitPrice</th>\n",
       "      <th>CustomerID</th>\n",
       "      <th>Country</th>\n",
       "    </tr>\n",
       "  </thead>\n",
       "  <tbody>\n",
       "    <tr>\n",
       "      <th>0</th>\n",
       "      <td>536365</td>\n",
       "      <td>85123A</td>\n",
       "      <td>WHITE HANGING HEART T-LIGHT HOLDER</td>\n",
       "      <td>6</td>\n",
       "      <td>2010-12-01 08:26:00</td>\n",
       "      <td>2.55</td>\n",
       "      <td>17850</td>\n",
       "      <td>United Kingdom</td>\n",
       "    </tr>\n",
       "    <tr>\n",
       "      <th>1</th>\n",
       "      <td>536365</td>\n",
       "      <td>71053</td>\n",
       "      <td>WHITE METAL LANTERN</td>\n",
       "      <td>6</td>\n",
       "      <td>2010-12-01 08:26:00</td>\n",
       "      <td>3.39</td>\n",
       "      <td>17850</td>\n",
       "      <td>United Kingdom</td>\n",
       "    </tr>\n",
       "    <tr>\n",
       "      <th>2</th>\n",
       "      <td>536365</td>\n",
       "      <td>84406B</td>\n",
       "      <td>CREAM CUPID HEARTS COAT HANGER</td>\n",
       "      <td>8</td>\n",
       "      <td>2010-12-01 08:26:00</td>\n",
       "      <td>2.75</td>\n",
       "      <td>17850</td>\n",
       "      <td>United Kingdom</td>\n",
       "    </tr>\n",
       "    <tr>\n",
       "      <th>3</th>\n",
       "      <td>536365</td>\n",
       "      <td>84029G</td>\n",
       "      <td>KNITTED UNION FLAG HOT WATER BOTTLE</td>\n",
       "      <td>6</td>\n",
       "      <td>2010-12-01 08:26:00</td>\n",
       "      <td>3.39</td>\n",
       "      <td>17850</td>\n",
       "      <td>United Kingdom</td>\n",
       "    </tr>\n",
       "    <tr>\n",
       "      <th>4</th>\n",
       "      <td>536365</td>\n",
       "      <td>84029E</td>\n",
       "      <td>RED WOOLLY HOTTIE WHITE HEART.</td>\n",
       "      <td>6</td>\n",
       "      <td>2010-12-01 08:26:00</td>\n",
       "      <td>3.39</td>\n",
       "      <td>17850</td>\n",
       "      <td>United Kingdom</td>\n",
       "    </tr>\n",
       "  </tbody>\n",
       "</table>\n",
       "</div>"
      ],
      "text/plain": [
       "  InvoiceNo StockCode                          Description  Quantity  \\\n",
       "0    536365    85123A   WHITE HANGING HEART T-LIGHT HOLDER         6   \n",
       "1    536365     71053                  WHITE METAL LANTERN         6   \n",
       "2    536365    84406B       CREAM CUPID HEARTS COAT HANGER         8   \n",
       "3    536365    84029G  KNITTED UNION FLAG HOT WATER BOTTLE         6   \n",
       "4    536365    84029E       RED WOOLLY HOTTIE WHITE HEART.         6   \n",
       "\n",
       "          InvoiceDate  UnitPrice  CustomerID         Country  \n",
       "0 2010-12-01 08:26:00       2.55       17850  United Kingdom  \n",
       "1 2010-12-01 08:26:00       3.39       17850  United Kingdom  \n",
       "2 2010-12-01 08:26:00       2.75       17850  United Kingdom  \n",
       "3 2010-12-01 08:26:00       3.39       17850  United Kingdom  \n",
       "4 2010-12-01 08:26:00       3.39       17850  United Kingdom  "
      ]
     },
     "execution_count": 7,
     "metadata": {},
     "output_type": "execute_result"
    }
   ],
   "source": [
    "# Truncating the decimal in Customer ID\n",
    "df1['CustomerID'] = df['CustomerID'].fillna(0).astype('int64')\n",
    "df1.info()\n",
    "df1.head()"
   ]
  },
  {
   "cell_type": "code",
   "execution_count": 8,
   "id": "5f837d54-3061-464c-accb-41167b574cdd",
   "metadata": {},
   "outputs": [
    {
     "name": "stdout",
     "output_type": "stream",
     "text": [
      "<class 'pandas.core.frame.DataFrame'>\n",
      "RangeIndex: 541909 entries, 0 to 541908\n",
      "Data columns (total 8 columns):\n",
      " #   Column       Non-Null Count   Dtype         \n",
      "---  ------       --------------   -----         \n",
      " 0   InvoiceNo    541909 non-null  category      \n",
      " 1   StockCode    541909 non-null  category      \n",
      " 2   Description  540455 non-null  category      \n",
      " 3   Quantity     541909 non-null  int64         \n",
      " 4   InvoiceDate  541909 non-null  datetime64[ns]\n",
      " 5   UnitPrice    541909 non-null  float64       \n",
      " 6   CustomerID   541909 non-null  category      \n",
      " 7   Country      541909 non-null  category      \n",
      "dtypes: category(5), datetime64[ns](1), float64(1), int64(1)\n",
      "memory usage: 18.7 MB\n"
     ]
    },
    {
     "data": {
      "text/html": [
       "<div>\n",
       "<style scoped>\n",
       "    .dataframe tbody tr th:only-of-type {\n",
       "        vertical-align: middle;\n",
       "    }\n",
       "\n",
       "    .dataframe tbody tr th {\n",
       "        vertical-align: top;\n",
       "    }\n",
       "\n",
       "    .dataframe thead th {\n",
       "        text-align: right;\n",
       "    }\n",
       "</style>\n",
       "<table border=\"1\" class=\"dataframe\">\n",
       "  <thead>\n",
       "    <tr style=\"text-align: right;\">\n",
       "      <th></th>\n",
       "      <th>InvoiceNo</th>\n",
       "      <th>StockCode</th>\n",
       "      <th>Description</th>\n",
       "      <th>Quantity</th>\n",
       "      <th>InvoiceDate</th>\n",
       "      <th>UnitPrice</th>\n",
       "      <th>CustomerID</th>\n",
       "      <th>Country</th>\n",
       "    </tr>\n",
       "  </thead>\n",
       "  <tbody>\n",
       "    <tr>\n",
       "      <th>0</th>\n",
       "      <td>536365</td>\n",
       "      <td>85123A</td>\n",
       "      <td>WHITE HANGING HEART T-LIGHT HOLDER</td>\n",
       "      <td>6</td>\n",
       "      <td>2010-12-01 08:26:00</td>\n",
       "      <td>2.55</td>\n",
       "      <td>17850</td>\n",
       "      <td>United Kingdom</td>\n",
       "    </tr>\n",
       "    <tr>\n",
       "      <th>1</th>\n",
       "      <td>536365</td>\n",
       "      <td>71053</td>\n",
       "      <td>WHITE METAL LANTERN</td>\n",
       "      <td>6</td>\n",
       "      <td>2010-12-01 08:26:00</td>\n",
       "      <td>3.39</td>\n",
       "      <td>17850</td>\n",
       "      <td>United Kingdom</td>\n",
       "    </tr>\n",
       "    <tr>\n",
       "      <th>2</th>\n",
       "      <td>536365</td>\n",
       "      <td>84406B</td>\n",
       "      <td>CREAM CUPID HEARTS COAT HANGER</td>\n",
       "      <td>8</td>\n",
       "      <td>2010-12-01 08:26:00</td>\n",
       "      <td>2.75</td>\n",
       "      <td>17850</td>\n",
       "      <td>United Kingdom</td>\n",
       "    </tr>\n",
       "    <tr>\n",
       "      <th>3</th>\n",
       "      <td>536365</td>\n",
       "      <td>84029G</td>\n",
       "      <td>KNITTED UNION FLAG HOT WATER BOTTLE</td>\n",
       "      <td>6</td>\n",
       "      <td>2010-12-01 08:26:00</td>\n",
       "      <td>3.39</td>\n",
       "      <td>17850</td>\n",
       "      <td>United Kingdom</td>\n",
       "    </tr>\n",
       "    <tr>\n",
       "      <th>4</th>\n",
       "      <td>536365</td>\n",
       "      <td>84029E</td>\n",
       "      <td>RED WOOLLY HOTTIE WHITE HEART.</td>\n",
       "      <td>6</td>\n",
       "      <td>2010-12-01 08:26:00</td>\n",
       "      <td>3.39</td>\n",
       "      <td>17850</td>\n",
       "      <td>United Kingdom</td>\n",
       "    </tr>\n",
       "  </tbody>\n",
       "</table>\n",
       "</div>"
      ],
      "text/plain": [
       "  InvoiceNo StockCode                          Description  Quantity  \\\n",
       "0    536365    85123A   WHITE HANGING HEART T-LIGHT HOLDER         6   \n",
       "1    536365     71053                  WHITE METAL LANTERN         6   \n",
       "2    536365    84406B       CREAM CUPID HEARTS COAT HANGER         8   \n",
       "3    536365    84029G  KNITTED UNION FLAG HOT WATER BOTTLE         6   \n",
       "4    536365    84029E       RED WOOLLY HOTTIE WHITE HEART.         6   \n",
       "\n",
       "          InvoiceDate  UnitPrice CustomerID         Country  \n",
       "0 2010-12-01 08:26:00       2.55      17850  United Kingdom  \n",
       "1 2010-12-01 08:26:00       3.39      17850  United Kingdom  \n",
       "2 2010-12-01 08:26:00       2.75      17850  United Kingdom  \n",
       "3 2010-12-01 08:26:00       3.39      17850  United Kingdom  \n",
       "4 2010-12-01 08:26:00       3.39      17850  United Kingdom  "
      ]
     },
     "execution_count": 8,
     "metadata": {},
     "output_type": "execute_result"
    }
   ],
   "source": [
    "# Convert relevant columns to type category for your label encoding\n",
    "\n",
    "df1[\"CustomerID\"] = df1[\"CustomerID\"].astype('category')\n",
    "df1[\"StockCode\"] = df1[\"StockCode\"].astype('category')\n",
    "df1[\"InvoiceNo\"] = df1[\"InvoiceNo\"].astype('category')\n",
    "df1[\"Country\"] = df1[\"Country\"].astype('category')\n",
    "df1[\"Description\"] = df1[\"Description\"].astype('category')\n",
    "\n",
    "# convert the 'Date' column to datetime format\n",
    "df1['InvoiceDate']= pd.to_datetime(df1['InvoiceDate'],infer_datetime_format=True)\n",
    "df1.info()\n",
    "df1.head()"
   ]
  },
  {
   "cell_type": "code",
   "execution_count": 9,
   "id": "41d211bd-0c69-4e9c-9389-06bd10ae4d67",
   "metadata": {},
   "outputs": [
    {
     "name": "stdout",
     "output_type": "stream",
     "text": [
      "Start date: 2010-12-01 08:26:00\n",
      "End date: 2011-12-09 12:50:00\n"
     ]
    }
   ],
   "source": [
    "# Start and end dates:\n",
    "print('Start date: {}'.format(df1['InvoiceDate'].min()))\n",
    "print('End date: {}'.format(df1['InvoiceDate'].max()))"
   ]
  },
  {
   "cell_type": "code",
   "execution_count": 10,
   "id": "c7cf2db0-61e3-480c-8511-0985dfd6d942",
   "metadata": {},
   "outputs": [
    {
     "name": "stdout",
     "output_type": "stream",
     "text": [
      "Duplicate entries: 5268\n",
      "1% rows are duplicate.\n"
     ]
    }
   ],
   "source": [
    "print('Duplicate entries: {}'.format(df1.duplicated().sum()))\n",
    "print('{}% rows are duplicate.'.format(round((df1.duplicated().sum()/df1.shape[0])*100),2))\n",
    "df1.drop_duplicates(inplace = True)"
   ]
  },
  {
   "cell_type": "code",
   "execution_count": 20,
   "id": "4783a496-688e-40d6-b1a2-3684f3e4ac98",
   "metadata": {},
   "outputs": [
    {
     "name": "stdout",
     "output_type": "stream",
     "text": [
      "InvoiceNo      0\n",
      "StockCode      0\n",
      "Description    0\n",
      "Quantity       0\n",
      "InvoiceDate    0\n",
      "UnitPrice      0\n",
      "CustomerID     0\n",
      "Country        0\n",
      "dtype: int64\n"
     ]
    }
   ],
   "source": [
    "# count the number of missing values for each column\n",
    "print(df1.isnull().sum())"
   ]
  },
  {
   "cell_type": "code",
   "execution_count": 18,
   "id": "d500b208-d435-4e36-a055-2768c0d12d8f",
   "metadata": {},
   "outputs": [
    {
     "name": "stdout",
     "output_type": "stream",
     "text": [
      "<class 'pandas.core.frame.DataFrame'>\n",
      "RangeIndex: 540455 entries, 0 to 540454\n",
      "Data columns (total 8 columns):\n",
      " #   Column       Non-Null Count   Dtype         \n",
      "---  ------       --------------   -----         \n",
      " 0   InvoiceNo    540455 non-null  object        \n",
      " 1   StockCode    540455 non-null  object        \n",
      " 2   Description  540455 non-null  object        \n",
      " 3   Quantity     540455 non-null  int64         \n",
      " 4   InvoiceDate  540455 non-null  datetime64[ns]\n",
      " 5   UnitPrice    540455 non-null  float64       \n",
      " 6   CustomerID   406829 non-null  float64       \n",
      " 7   Country      540455 non-null  object        \n",
      "dtypes: datetime64[ns](1), float64(2), int64(1), object(4)\n",
      "memory usage: 33.0+ MB\n"
     ]
    }
   ],
   "source": [
    "# removes missing data and index\n",
    "df1 = df1[df1['Description'].notna()]\n",
    "df1.reset_index(drop=True,inplace=True)\n",
    "df1.info()"
   ]
  },
  {
   "cell_type": "code",
   "execution_count": 19,
   "id": "59f1a1c3-562b-4cde-8f9c-47133eb68f7c",
   "metadata": {},
   "outputs": [
    {
     "name": "stdout",
     "output_type": "stream",
     "text": [
      "<class 'pandas.core.frame.DataFrame'>\n",
      "RangeIndex: 406829 entries, 0 to 406828\n",
      "Data columns (total 8 columns):\n",
      " #   Column       Non-Null Count   Dtype         \n",
      "---  ------       --------------   -----         \n",
      " 0   InvoiceNo    406829 non-null  object        \n",
      " 1   StockCode    406829 non-null  object        \n",
      " 2   Description  406829 non-null  object        \n",
      " 3   Quantity     406829 non-null  int64         \n",
      " 4   InvoiceDate  406829 non-null  datetime64[ns]\n",
      " 5   UnitPrice    406829 non-null  float64       \n",
      " 6   CustomerID   406829 non-null  float64       \n",
      " 7   Country      406829 non-null  object        \n",
      "dtypes: datetime64[ns](1), float64(2), int64(1), object(4)\n",
      "memory usage: 24.8+ MB\n"
     ]
    }
   ],
   "source": [
    "# removes missing data and index\n",
    "df1 = df1[df1['CustomerID'].notna()]\n",
    "df1.reset_index(drop=True,inplace=True)\n",
    "df1.info()"
   ]
  },
  {
   "cell_type": "code",
   "execution_count": null,
   "id": "5bfc167e-829e-4dd2-aecb-9b4da61e3e6b",
   "metadata": {},
   "outputs": [],
   "source": [
    "# count for negative values in quantity \n",
    "df1.loc[df1['Quantity'] < 0,:]"
   ]
  },
  {
   "cell_type": "code",
   "execution_count": 23,
   "id": "2b535774-0406-44ba-b94e-fb329241ba40",
   "metadata": {},
   "outputs": [
    {
     "name": "stdout",
     "output_type": "stream",
     "text": [
      "<class 'pandas.core.frame.DataFrame'>\n",
      "Int64Index: 8905 entries, 141 to 406637\n",
      "Data columns (total 9 columns):\n",
      " #   Column       Non-Null Count  Dtype         \n",
      "---  ------       --------------  -----         \n",
      " 0   InvoiceNo    8905 non-null   object        \n",
      " 1   StockCode    8905 non-null   object        \n",
      " 2   Description  8905 non-null   object        \n",
      " 3   Quantity     8905 non-null   int64         \n",
      " 4   InvoiceDate  8905 non-null   datetime64[ns]\n",
      " 5   UnitPrice    8905 non-null   float64       \n",
      " 6   CustomerID   8905 non-null   float64       \n",
      " 7   Country      8905 non-null   object        \n",
      " 8   Cancelled    8905 non-null   category      \n",
      "dtypes: category(1), datetime64[ns](1), float64(2), int64(1), object(4)\n",
      "memory usage: 635.0+ KB\n"
     ]
    },
    {
     "data": {
      "text/html": [
       "<div>\n",
       "<style scoped>\n",
       "    .dataframe tbody tr th:only-of-type {\n",
       "        vertical-align: middle;\n",
       "    }\n",
       "\n",
       "    .dataframe tbody tr th {\n",
       "        vertical-align: top;\n",
       "    }\n",
       "\n",
       "    .dataframe thead th {\n",
       "        text-align: right;\n",
       "    }\n",
       "</style>\n",
       "<table border=\"1\" class=\"dataframe\">\n",
       "  <thead>\n",
       "    <tr style=\"text-align: right;\">\n",
       "      <th></th>\n",
       "      <th>InvoiceNo</th>\n",
       "      <th>StockCode</th>\n",
       "      <th>Description</th>\n",
       "      <th>Quantity</th>\n",
       "      <th>InvoiceDate</th>\n",
       "      <th>UnitPrice</th>\n",
       "      <th>CustomerID</th>\n",
       "      <th>Country</th>\n",
       "      <th>Cancelled</th>\n",
       "    </tr>\n",
       "  </thead>\n",
       "  <tbody>\n",
       "    <tr>\n",
       "      <th>141</th>\n",
       "      <td>C536379</td>\n",
       "      <td>D</td>\n",
       "      <td>Discount</td>\n",
       "      <td>-1</td>\n",
       "      <td>2010-12-01 09:41:00</td>\n",
       "      <td>27.50</td>\n",
       "      <td>14527.0</td>\n",
       "      <td>United Kingdom</td>\n",
       "      <td>T</td>\n",
       "    </tr>\n",
       "    <tr>\n",
       "      <th>154</th>\n",
       "      <td>C536383</td>\n",
       "      <td>35004C</td>\n",
       "      <td>SET OF 3 COLOURED  FLYING DUCKS</td>\n",
       "      <td>-1</td>\n",
       "      <td>2010-12-01 09:49:00</td>\n",
       "      <td>4.65</td>\n",
       "      <td>15311.0</td>\n",
       "      <td>United Kingdom</td>\n",
       "      <td>T</td>\n",
       "    </tr>\n",
       "    <tr>\n",
       "      <th>235</th>\n",
       "      <td>C536391</td>\n",
       "      <td>22556</td>\n",
       "      <td>PLASTERS IN TIN CIRCUS PARADE</td>\n",
       "      <td>-12</td>\n",
       "      <td>2010-12-01 10:24:00</td>\n",
       "      <td>1.65</td>\n",
       "      <td>17548.0</td>\n",
       "      <td>United Kingdom</td>\n",
       "      <td>T</td>\n",
       "    </tr>\n",
       "    <tr>\n",
       "      <th>236</th>\n",
       "      <td>C536391</td>\n",
       "      <td>21984</td>\n",
       "      <td>PACK OF 12 PINK PAISLEY TISSUES</td>\n",
       "      <td>-24</td>\n",
       "      <td>2010-12-01 10:24:00</td>\n",
       "      <td>0.29</td>\n",
       "      <td>17548.0</td>\n",
       "      <td>United Kingdom</td>\n",
       "      <td>T</td>\n",
       "    </tr>\n",
       "    <tr>\n",
       "      <th>237</th>\n",
       "      <td>C536391</td>\n",
       "      <td>21983</td>\n",
       "      <td>PACK OF 12 BLUE PAISLEY TISSUES</td>\n",
       "      <td>-24</td>\n",
       "      <td>2010-12-01 10:24:00</td>\n",
       "      <td>0.29</td>\n",
       "      <td>17548.0</td>\n",
       "      <td>United Kingdom</td>\n",
       "      <td>T</td>\n",
       "    </tr>\n",
       "  </tbody>\n",
       "</table>\n",
       "</div>"
      ],
      "text/plain": [
       "    InvoiceNo StockCode                       Description  Quantity  \\\n",
       "141   C536379         D                          Discount        -1   \n",
       "154   C536383    35004C   SET OF 3 COLOURED  FLYING DUCKS        -1   \n",
       "235   C536391     22556    PLASTERS IN TIN CIRCUS PARADE        -12   \n",
       "236   C536391     21984  PACK OF 12 PINK PAISLEY TISSUES        -24   \n",
       "237   C536391     21983  PACK OF 12 BLUE PAISLEY TISSUES        -24   \n",
       "\n",
       "            InvoiceDate  UnitPrice  CustomerID         Country Cancelled  \n",
       "141 2010-12-01 09:41:00      27.50     14527.0  United Kingdom         T  \n",
       "154 2010-12-01 09:49:00       4.65     15311.0  United Kingdom         T  \n",
       "235 2010-12-01 10:24:00       1.65     17548.0  United Kingdom         T  \n",
       "236 2010-12-01 10:24:00       0.29     17548.0  United Kingdom         T  \n",
       "237 2010-12-01 10:24:00       0.29     17548.0  United Kingdom         T  "
      ]
     },
     "execution_count": 23,
     "metadata": {},
     "output_type": "execute_result"
    }
   ],
   "source": [
    "# Negative values in quantity indicates cancelled orders\n",
    "df1['Cancelled'] = np.where(df1['Quantity'] < 0, 'T', 'F')\n",
    "df1[\"Cancelled\"] = df1[\"Cancelled\"].astype('category')\n",
    "\n",
    "# remove cancelled orders from dataset\n",
    "df1_filtered = df1[df1['Cancelled'] == 'F']\n",
    "# df1_filtered.info()\n",
    "# df1_filtered.head()\n",
    "\n",
    "# copy the cancelled order into a new dataset\n",
    "newdf = df1[(df1.Cancelled == 'T')]\n",
    "newdf.info()\n",
    "newdf.head()"
   ]
  },
  {
   "cell_type": "code",
   "execution_count": 29,
   "id": "ed389838-2aff-4e16-914f-472bf64ce7f0",
   "metadata": {
    "scrolled": true,
    "tags": []
   },
   "outputs": [
    {
     "name": "stdout",
     "output_type": "stream",
     "text": [
      "<class 'pandas.core.frame.DataFrame'>\n",
      "Int64Index: 397924 entries, 0 to 406828\n",
      "Data columns (total 9 columns):\n",
      " #   Column       Non-Null Count   Dtype         \n",
      "---  ------       --------------   -----         \n",
      " 0   InvoiceNo    397924 non-null  object        \n",
      " 1   StockCode    397924 non-null  object        \n",
      " 2   Description  397924 non-null  object        \n",
      " 3   Quantity     397924 non-null  int64         \n",
      " 4   InvoiceDate  397924 non-null  datetime64[ns]\n",
      " 5   UnitPrice    397924 non-null  float64       \n",
      " 6   CustomerID   397924 non-null  float64       \n",
      " 7   Country      397924 non-null  object        \n",
      " 8   Cancelled    397924 non-null  category      \n",
      "dtypes: category(1), datetime64[ns](1), float64(2), int64(1), object(4)\n",
      "memory usage: 27.7+ MB\n"
     ]
    },
    {
     "data": {
      "text/html": [
       "<div>\n",
       "<style scoped>\n",
       "    .dataframe tbody tr th:only-of-type {\n",
       "        vertical-align: middle;\n",
       "    }\n",
       "\n",
       "    .dataframe tbody tr th {\n",
       "        vertical-align: top;\n",
       "    }\n",
       "\n",
       "    .dataframe thead th {\n",
       "        text-align: right;\n",
       "    }\n",
       "</style>\n",
       "<table border=\"1\" class=\"dataframe\">\n",
       "  <thead>\n",
       "    <tr style=\"text-align: right;\">\n",
       "      <th></th>\n",
       "      <th>products</th>\n",
       "      <th>transactions</th>\n",
       "      <th>customers</th>\n",
       "    </tr>\n",
       "  </thead>\n",
       "  <tbody>\n",
       "    <tr>\n",
       "      <th>quantity</th>\n",
       "      <td>3665</td>\n",
       "      <td>18536</td>\n",
       "      <td>4339</td>\n",
       "    </tr>\n",
       "  </tbody>\n",
       "</table>\n",
       "</div>"
      ],
      "text/plain": [
       "          products  transactions  customers\n",
       "quantity      3665         18536       4339"
      ]
     },
     "execution_count": 29,
     "metadata": {},
     "output_type": "execute_result"
    }
   ],
   "source": [
    " df1_filtered.info()\n",
    " df1_filtered.head()\n",
    "\n",
    "\n",
    "\n",
    "# Summarizing the number of products, transactions and unique customers\n",
    "# There are 3665 products, 44339373 customers and a total of 18536 transactions\n",
    "pd.DataFrame([{'products': len(df1_filtered['StockCode'].value_counts()),    \n",
    "               'transactions': len(df1_filtered['InvoiceNo'].value_counts()),\n",
    "               'customers': len(df1_filtered['CustomerID'].value_counts()),  \n",
    "              }], columns = ['products', 'transactions', 'customers'], index = ['quantity'])"
   ]
  },
  {
   "cell_type": "code",
   "execution_count": 30,
   "id": "881c8754-641d-408c-80ae-038cbc1f0920",
   "metadata": {
    "scrolled": true,
    "tags": []
   },
   "outputs": [
    {
     "data": {
      "text/plain": [
       "Text(0, 0.5, '%Transactions')"
      ]
     },
     "execution_count": 30,
     "metadata": {},
     "output_type": "execute_result"
    },
    {
     "data": {
      "image/png": "[encoded data removed]",
      "text/plain": [
       "<Figure size 1080x432 with 1 Axes>"
      ]
     },
     "metadata": {
      "needs_background": "light"
     },
     "output_type": "display_data"
    }
   ],
   "source": [
    "# Country-wise transactions\n",
    "temp = df1_filtered.groupby(['Country'],as_index=False).agg({'InvoiceNo':'nunique'}).rename(columns = {'InvoiceNo':'Transactions'})\n",
    "total = temp['Transactions'].sum(axis=0)\n",
    "temp['%Transactions'] = round((temp['Transactions']/total)*100,4)\n",
    "\n",
    "temp.sort_values(by=['%Transactions'],ascending=False,inplace=True)\n",
    "temp.reset_index(drop=True,inplace=True)\n",
    "plt.figure(figsize=(15,6))\n",
    "plt.xticks(rotation=90)\n",
    "splot=sns.barplot(x=\"Country\",y=\"%Transactions\",data=temp[:10])\n",
    "for p in splot.patches:\n",
    "    splot.annotate(format(p.get_height(), '.1f'), \n",
    "                   (p.get_x() + p.get_width() / 2., p.get_height()), \n",
    "                   ha = 'center', va = 'center', \n",
    "                   xytext = (0, 9), \n",
    "                   textcoords = 'offset points')\n",
    "plt.xlabel(\"Country\", size=14)\n",
    "plt.ylabel(\"%Transactions\", size=14)"
   ]
  },
  {
   "cell_type": "code",
   "execution_count": 31,
   "id": "d6a09ff4-2c3d-4ec4-aa29-103b01042257",
   "metadata": {},
   "outputs": [
    {
     "data": {
      "text/plain": [
       "Text(0, 0.5, '%Customers')"
      ]
     },
     "execution_count": 31,
     "metadata": {},
     "output_type": "execute_result"
    },
    {
     "data": {
      "image/png": "[encoded data removed]",
      "text/plain": [
       "<Figure size 1080x432 with 1 Axes>"
      ]
     },
     "metadata": {
      "needs_background": "light"
     },
     "output_type": "display_data"
    }
   ],
   "source": [
    "# Country-wise customers\n",
    "temp = df.groupby(['Country'],as_index=False).agg({'CustomerID':'nunique'}).rename(columns = {'CustomerID':'Customers'})\n",
    "total = temp['Customers'].sum(axis=0)\n",
    "temp['%Customers'] = round((temp['Customers']/total)*100,4)\n",
    "\n",
    "temp.sort_values(by=['%Customers'],ascending=False,inplace=True)\n",
    "temp.reset_index(drop=True,inplace=True)\n",
    "plt.figure(figsize=(15,6))\n",
    "plt.xticks(rotation=90)\n",
    "splot=sns.barplot(x=\"Country\",y=\"%Customers\",data=temp[:10])\n",
    "for p in splot.patches:\n",
    "    splot.annotate(format(p.get_height(), '.1f'), \n",
    "                   (p.get_x() + p.get_width() / 2., p.get_height()), \n",
    "                   ha = 'center', va = 'center', \n",
    "                   xytext = (0, 9), \n",
    "                   textcoords = 'offset points')\n",
    "plt.xlabel(\"Country\", size=14)\n",
    "plt.ylabel(\"%Customers\", size=14)"
   ]
  },
  {
   "cell_type": "code",
   "execution_count": 32,
   "id": "2f205369-5cf2-4a34-bd3a-c24b1d9b5d6d",
   "metadata": {},
   "outputs": [
    {
     "name": "stdout",
     "output_type": "stream",
     "text": [
      "<class 'pandas.core.frame.DataFrame'>\n",
      "Int64Index: 354345 entries, 0 to 406813\n",
      "Data columns (total 9 columns):\n",
      " #   Column       Non-Null Count   Dtype         \n",
      "---  ------       --------------   -----         \n",
      " 0   InvoiceNo    354345 non-null  object        \n",
      " 1   StockCode    354345 non-null  object        \n",
      " 2   Description  354345 non-null  object        \n",
      " 3   Quantity     354345 non-null  int64         \n",
      " 4   InvoiceDate  354345 non-null  datetime64[ns]\n",
      " 5   UnitPrice    354345 non-null  float64       \n",
      " 6   CustomerID   354345 non-null  float64       \n",
      " 7   Country      354345 non-null  object        \n",
      " 8   Cancelled    354345 non-null  category      \n",
      "dtypes: category(1), datetime64[ns](1), float64(2), int64(1), object(4)\n",
      "memory usage: 24.7+ MB\n"
     ]
    },
    {
     "data": {
      "text/html": [
       "<div>\n",
       "<style scoped>\n",
       "    .dataframe tbody tr th:only-of-type {\n",
       "        vertical-align: middle;\n",
       "    }\n",
       "\n",
       "    .dataframe tbody tr th {\n",
       "        vertical-align: top;\n",
       "    }\n",
       "\n",
       "    .dataframe thead th {\n",
       "        text-align: right;\n",
       "    }\n",
       "</style>\n",
       "<table border=\"1\" class=\"dataframe\">\n",
       "  <thead>\n",
       "    <tr style=\"text-align: right;\">\n",
       "      <th></th>\n",
       "      <th>InvoiceNo</th>\n",
       "      <th>StockCode</th>\n",
       "      <th>Description</th>\n",
       "      <th>Quantity</th>\n",
       "      <th>InvoiceDate</th>\n",
       "      <th>UnitPrice</th>\n",
       "      <th>CustomerID</th>\n",
       "      <th>Country</th>\n",
       "      <th>Cancelled</th>\n",
       "    </tr>\n",
       "  </thead>\n",
       "  <tbody>\n",
       "    <tr>\n",
       "      <th>0</th>\n",
       "      <td>536365</td>\n",
       "      <td>85123A</td>\n",
       "      <td>WHITE HANGING HEART T-LIGHT HOLDER</td>\n",
       "      <td>6</td>\n",
       "      <td>2010-12-01 08:26:00</td>\n",
       "      <td>2.55</td>\n",
       "      <td>17850.0</td>\n",
       "      <td>United Kingdom</td>\n",
       "      <td>F</td>\n",
       "    </tr>\n",
       "    <tr>\n",
       "      <th>1</th>\n",
       "      <td>536365</td>\n",
       "      <td>71053</td>\n",
       "      <td>WHITE METAL LANTERN</td>\n",
       "      <td>6</td>\n",
       "      <td>2010-12-01 08:26:00</td>\n",
       "      <td>3.39</td>\n",
       "      <td>17850.0</td>\n",
       "      <td>United Kingdom</td>\n",
       "      <td>F</td>\n",
       "    </tr>\n",
       "    <tr>\n",
       "      <th>2</th>\n",
       "      <td>536365</td>\n",
       "      <td>84406B</td>\n",
       "      <td>CREAM CUPID HEARTS COAT HANGER</td>\n",
       "      <td>8</td>\n",
       "      <td>2010-12-01 08:26:00</td>\n",
       "      <td>2.75</td>\n",
       "      <td>17850.0</td>\n",
       "      <td>United Kingdom</td>\n",
       "      <td>F</td>\n",
       "    </tr>\n",
       "    <tr>\n",
       "      <th>3</th>\n",
       "      <td>536365</td>\n",
       "      <td>84029G</td>\n",
       "      <td>KNITTED UNION FLAG HOT WATER BOTTLE</td>\n",
       "      <td>6</td>\n",
       "      <td>2010-12-01 08:26:00</td>\n",
       "      <td>3.39</td>\n",
       "      <td>17850.0</td>\n",
       "      <td>United Kingdom</td>\n",
       "      <td>F</td>\n",
       "    </tr>\n",
       "    <tr>\n",
       "      <th>4</th>\n",
       "      <td>536365</td>\n",
       "      <td>84029E</td>\n",
       "      <td>RED WOOLLY HOTTIE WHITE HEART.</td>\n",
       "      <td>6</td>\n",
       "      <td>2010-12-01 08:26:00</td>\n",
       "      <td>3.39</td>\n",
       "      <td>17850.0</td>\n",
       "      <td>United Kingdom</td>\n",
       "      <td>F</td>\n",
       "    </tr>\n",
       "  </tbody>\n",
       "</table>\n",
       "</div>"
      ],
      "text/plain": [
       "  InvoiceNo StockCode                          Description  Quantity  \\\n",
       "0    536365    85123A   WHITE HANGING HEART T-LIGHT HOLDER         6   \n",
       "1    536365     71053                  WHITE METAL LANTERN         6   \n",
       "2    536365    84406B       CREAM CUPID HEARTS COAT HANGER         8   \n",
       "3    536365    84029G  KNITTED UNION FLAG HOT WATER BOTTLE         6   \n",
       "4    536365    84029E       RED WOOLLY HOTTIE WHITE HEART.         6   \n",
       "\n",
       "          InvoiceDate  UnitPrice  CustomerID         Country Cancelled  \n",
       "0 2010-12-01 08:26:00       2.55     17850.0  United Kingdom         F  \n",
       "1 2010-12-01 08:26:00       3.39     17850.0  United Kingdom         F  \n",
       "2 2010-12-01 08:26:00       2.75     17850.0  United Kingdom         F  \n",
       "3 2010-12-01 08:26:00       3.39     17850.0  United Kingdom         F  \n",
       "4 2010-12-01 08:26:00       3.39     17850.0  United Kingdom         F  "
      ]
     },
     "execution_count": 32,
     "metadata": {},
     "output_type": "execute_result"
    }
   ],
   "source": [
    "# SUBSET DATA \n",
    "\n",
    "df1_filtered_uk = df1_filtered[df1_filtered.Country == 'United Kingdom']\n",
    "\n",
    " \n",
    "df1_filtered_uk.info()\n",
    "df1_filtered_uk.head()"
   ]
  },
  {
   "cell_type": "code",
   "execution_count": 34,
   "id": "fed6d6a7-4711-4a83-bdfb-1f11cd6d6a2d",
   "metadata": {},
   "outputs": [
    {
     "data": {
      "text/html": [
       "<div>\n",
       "<style scoped>\n",
       "    .dataframe tbody tr th:only-of-type {\n",
       "        vertical-align: middle;\n",
       "    }\n",
       "\n",
       "    .dataframe tbody tr th {\n",
       "        vertical-align: top;\n",
       "    }\n",
       "\n",
       "    .dataframe thead th {\n",
       "        text-align: right;\n",
       "    }\n",
       "</style>\n",
       "<table border=\"1\" class=\"dataframe\">\n",
       "  <thead>\n",
       "    <tr style=\"text-align: right;\">\n",
       "      <th></th>\n",
       "      <th>InvoiceNo</th>\n",
       "      <th>StockCode</th>\n",
       "      <th>Description</th>\n",
       "      <th>Quantity</th>\n",
       "      <th>InvoiceDate</th>\n",
       "      <th>UnitPrice</th>\n",
       "      <th>CustomerID</th>\n",
       "    </tr>\n",
       "  </thead>\n",
       "  <tbody>\n",
       "    <tr>\n",
       "      <th>0</th>\n",
       "      <td>536365</td>\n",
       "      <td>85123A</td>\n",
       "      <td>WHITE HANGING HEART T-LIGHT HOLDER</td>\n",
       "      <td>6</td>\n",
       "      <td>2010-12-01 08:26:00</td>\n",
       "      <td>2.55</td>\n",
       "      <td>17850.0</td>\n",
       "    </tr>\n",
       "    <tr>\n",
       "      <th>1</th>\n",
       "      <td>536365</td>\n",
       "      <td>71053</td>\n",
       "      <td>WHITE METAL LANTERN</td>\n",
       "      <td>6</td>\n",
       "      <td>2010-12-01 08:26:00</td>\n",
       "      <td>3.39</td>\n",
       "      <td>17850.0</td>\n",
       "    </tr>\n",
       "    <tr>\n",
       "      <th>2</th>\n",
       "      <td>536365</td>\n",
       "      <td>84406B</td>\n",
       "      <td>CREAM CUPID HEARTS COAT HANGER</td>\n",
       "      <td>8</td>\n",
       "      <td>2010-12-01 08:26:00</td>\n",
       "      <td>2.75</td>\n",
       "      <td>17850.0</td>\n",
       "    </tr>\n",
       "    <tr>\n",
       "      <th>3</th>\n",
       "      <td>536365</td>\n",
       "      <td>84029G</td>\n",
       "      <td>KNITTED UNION FLAG HOT WATER BOTTLE</td>\n",
       "      <td>6</td>\n",
       "      <td>2010-12-01 08:26:00</td>\n",
       "      <td>3.39</td>\n",
       "      <td>17850.0</td>\n",
       "    </tr>\n",
       "    <tr>\n",
       "      <th>4</th>\n",
       "      <td>536365</td>\n",
       "      <td>84029E</td>\n",
       "      <td>RED WOOLLY HOTTIE WHITE HEART.</td>\n",
       "      <td>6</td>\n",
       "      <td>2010-12-01 08:26:00</td>\n",
       "      <td>3.39</td>\n",
       "      <td>17850.0</td>\n",
       "    </tr>\n",
       "    <tr>\n",
       "      <th>...</th>\n",
       "      <td>...</td>\n",
       "      <td>...</td>\n",
       "      <td>...</td>\n",
       "      <td>...</td>\n",
       "      <td>...</td>\n",
       "      <td>...</td>\n",
       "      <td>...</td>\n",
       "    </tr>\n",
       "    <tr>\n",
       "      <th>406809</th>\n",
       "      <td>581585</td>\n",
       "      <td>22466</td>\n",
       "      <td>FAIRY TALE COTTAGE NIGHT LIGHT</td>\n",
       "      <td>12</td>\n",
       "      <td>2011-12-09 12:31:00</td>\n",
       "      <td>1.95</td>\n",
       "      <td>15804.0</td>\n",
       "    </tr>\n",
       "    <tr>\n",
       "      <th>406810</th>\n",
       "      <td>581586</td>\n",
       "      <td>22061</td>\n",
       "      <td>LARGE CAKE STAND  HANGING STRAWBERY</td>\n",
       "      <td>8</td>\n",
       "      <td>2011-12-09 12:49:00</td>\n",
       "      <td>2.95</td>\n",
       "      <td>13113.0</td>\n",
       "    </tr>\n",
       "    <tr>\n",
       "      <th>406811</th>\n",
       "      <td>581586</td>\n",
       "      <td>23275</td>\n",
       "      <td>SET OF 3 HANGING OWLS OLLIE BEAK</td>\n",
       "      <td>24</td>\n",
       "      <td>2011-12-09 12:49:00</td>\n",
       "      <td>1.25</td>\n",
       "      <td>13113.0</td>\n",
       "    </tr>\n",
       "    <tr>\n",
       "      <th>406812</th>\n",
       "      <td>581586</td>\n",
       "      <td>21217</td>\n",
       "      <td>RED RETROSPOT ROUND CAKE TINS</td>\n",
       "      <td>24</td>\n",
       "      <td>2011-12-09 12:49:00</td>\n",
       "      <td>8.95</td>\n",
       "      <td>13113.0</td>\n",
       "    </tr>\n",
       "    <tr>\n",
       "      <th>406813</th>\n",
       "      <td>581586</td>\n",
       "      <td>20685</td>\n",
       "      <td>DOORMAT RED RETROSPOT</td>\n",
       "      <td>10</td>\n",
       "      <td>2011-12-09 12:49:00</td>\n",
       "      <td>7.08</td>\n",
       "      <td>13113.0</td>\n",
       "    </tr>\n",
       "  </tbody>\n",
       "</table>\n",
       "<p>354345 rows × 7 columns</p>\n",
       "</div>"
      ],
      "text/plain": [
       "       InvoiceNo StockCode                          Description  Quantity  \\\n",
       "0         536365    85123A   WHITE HANGING HEART T-LIGHT HOLDER         6   \n",
       "1         536365     71053                  WHITE METAL LANTERN         6   \n",
       "2         536365    84406B       CREAM CUPID HEARTS COAT HANGER         8   \n",
       "3         536365    84029G  KNITTED UNION FLAG HOT WATER BOTTLE         6   \n",
       "4         536365    84029E       RED WOOLLY HOTTIE WHITE HEART.         6   \n",
       "...          ...       ...                                  ...       ...   \n",
       "406809    581585     22466       FAIRY TALE COTTAGE NIGHT LIGHT        12   \n",
       "406810    581586     22061  LARGE CAKE STAND  HANGING STRAWBERY         8   \n",
       "406811    581586     23275     SET OF 3 HANGING OWLS OLLIE BEAK        24   \n",
       "406812    581586     21217        RED RETROSPOT ROUND CAKE TINS        24   \n",
       "406813    581586     20685                DOORMAT RED RETROSPOT        10   \n",
       "\n",
       "               InvoiceDate  UnitPrice  CustomerID  \n",
       "0      2010-12-01 08:26:00       2.55     17850.0  \n",
       "1      2010-12-01 08:26:00       3.39     17850.0  \n",
       "2      2010-12-01 08:26:00       2.75     17850.0  \n",
       "3      2010-12-01 08:26:00       3.39     17850.0  \n",
       "4      2010-12-01 08:26:00       3.39     17850.0  \n",
       "...                    ...        ...         ...  \n",
       "406809 2011-12-09 12:31:00       1.95     15804.0  \n",
       "406810 2011-12-09 12:49:00       2.95     13113.0  \n",
       "406811 2011-12-09 12:49:00       1.25     13113.0  \n",
       "406812 2011-12-09 12:49:00       8.95     13113.0  \n",
       "406813 2011-12-09 12:49:00       7.08     13113.0  \n",
       "\n",
       "[354345 rows x 7 columns]"
      ]
     },
     "execution_count": 34,
     "metadata": {},
     "output_type": "execute_result"
    }
   ],
   "source": [
    "# Remove column name 'Country' 'Cancelled'\n",
    "df1_filtered_uk_new = df1_filtered_uk.drop(['Country','Cancelled'], axis = 1)\n",
    "\n",
    "df1_filtered_uk_new"
   ]
  },
  {
   "cell_type": "code",
   "execution_count": 35,
   "id": "9a6b471b-dc29-4d07-b2a7-291dfb2b5650",
   "metadata": {},
   "outputs": [
    {
     "name": "stdout",
     "output_type": "stream",
     "text": [
      "<class 'pandas.core.frame.DataFrame'>\n",
      "Int64Index: 354345 entries, 0 to 406813\n",
      "Data columns (total 7 columns):\n",
      " #   Column       Non-Null Count   Dtype         \n",
      "---  ------       --------------   -----         \n",
      " 0   InvoiceNo    354345 non-null  object        \n",
      " 1   StockCode    354345 non-null  object        \n",
      " 2   Description  354345 non-null  object        \n",
      " 3   Quantity     354345 non-null  int64         \n",
      " 4   InvoiceDate  354345 non-null  datetime64[ns]\n",
      " 5   UnitPrice    354345 non-null  float64       \n",
      " 6   CustomerID   354345 non-null  float64       \n",
      "dtypes: datetime64[ns](1), float64(2), int64(1), object(3)\n",
      "memory usage: 21.6+ MB\n"
     ]
    },
    {
     "data": {
      "text/html": [
       "<div>\n",
       "<style scoped>\n",
       "    .dataframe tbody tr th:only-of-type {\n",
       "        vertical-align: middle;\n",
       "    }\n",
       "\n",
       "    .dataframe tbody tr th {\n",
       "        vertical-align: top;\n",
       "    }\n",
       "\n",
       "    .dataframe thead th {\n",
       "        text-align: right;\n",
       "    }\n",
       "</style>\n",
       "<table border=\"1\" class=\"dataframe\">\n",
       "  <thead>\n",
       "    <tr style=\"text-align: right;\">\n",
       "      <th></th>\n",
       "      <th>products</th>\n",
       "      <th>transactions</th>\n",
       "      <th>customers</th>\n",
       "    </tr>\n",
       "  </thead>\n",
       "  <tbody>\n",
       "    <tr>\n",
       "      <th>quantity</th>\n",
       "      <td>3645</td>\n",
       "      <td>16649</td>\n",
       "      <td>3921</td>\n",
       "    </tr>\n",
       "  </tbody>\n",
       "</table>\n",
       "</div>"
      ],
      "text/plain": [
       "          products  transactions  customers\n",
       "quantity      3645         16649       3921"
      ]
     },
     "execution_count": 35,
     "metadata": {},
     "output_type": "execute_result"
    }
   ],
   "source": [
    " df1_filtered_uk_new.info()\n",
    " df1_filtered_uk_new.head()\n",
    "\n",
    "\n",
    "\n",
    "# Summarizing the number of products, transactions and unique customers\n",
    "# There are 3665 products, 44339373 customers and a total of 18536 transactions\n",
    "pd.DataFrame([{'products': len(df1_filtered_uk_new['StockCode'].value_counts()),    \n",
    "               'transactions': len(df1_filtered_uk_new['InvoiceNo'].value_counts()),\n",
    "               'customers': len(df1_filtered_uk_new['CustomerID'].value_counts()),  \n",
    "              }], columns = ['products', 'transactions', 'customers'], index = ['quantity'])"
   ]
  },
  {
   "cell_type": "code",
   "execution_count": 36,
   "id": "0abcdaa4-e166-4420-989a-1ebc969f9e98",
   "metadata": {},
   "outputs": [
    {
     "name": "stdout",
     "output_type": "stream",
     "text": [
      "<class 'pandas.core.frame.DataFrame'>\n",
      "Int64Index: 200364 entries, 0 to 232045\n",
      "Data columns (total 7 columns):\n",
      " #   Column       Non-Null Count   Dtype         \n",
      "---  ------       --------------   -----         \n",
      " 0   InvoiceNo    200364 non-null  object        \n",
      " 1   StockCode    200364 non-null  object        \n",
      " 2   Description  200364 non-null  object        \n",
      " 3   Quantity     200364 non-null  int64         \n",
      " 4   InvoiceDate  200364 non-null  datetime64[ns]\n",
      " 5   UnitPrice    200364 non-null  float64       \n",
      " 6   CustomerID   200364 non-null  float64       \n",
      "dtypes: datetime64[ns](1), float64(2), int64(1), object(3)\n",
      "memory usage: 12.2+ MB\n"
     ]
    }
   ],
   "source": [
    "# Feature Engineering\n",
    "\n",
    "# Column to identify repeat orders from customers (Target Variable definition)\n",
    "# The training data should include all customers who have made a transaction between 1st Dec 2010 to 31st Aug 2011\n",
    "\n",
    "\n",
    "# Filter data between  1st Dec 2010 to 31st Aug 2011\n",
    "df2 = df1_filtered_uk_new.loc[(df1_filtered_uk_new['InvoiceDate'] >= '2010-12-01')\n",
    "                     & (df1_filtered_uk_new['InvoiceDate'] <= '2011-09-01')]\n",
    "# Display\n",
    "df2\n",
    "df2.info()"
   ]
  },
  {
   "cell_type": "code",
   "execution_count": 37,
   "id": "69d1bb80-b1b4-49cd-8c5e-8a31f9eeca62",
   "metadata": {},
   "outputs": [
    {
     "name": "stdout",
     "output_type": "stream",
     "text": [
      "<class 'pandas.core.frame.DataFrame'>\n",
      "Int64Index: 153981 entries, 232053 to 406813\n",
      "Data columns (total 7 columns):\n",
      " #   Column       Non-Null Count   Dtype         \n",
      "---  ------       --------------   -----         \n",
      " 0   InvoiceNo    153981 non-null  object        \n",
      " 1   StockCode    153981 non-null  object        \n",
      " 2   Description  153981 non-null  object        \n",
      " 3   Quantity     153981 non-null  int64         \n",
      " 4   InvoiceDate  153981 non-null  datetime64[ns]\n",
      " 5   UnitPrice    153981 non-null  float64       \n",
      " 6   CustomerID   153981 non-null  float64       \n",
      "dtypes: datetime64[ns](1), float64(2), int64(1), object(3)\n",
      "memory usage: 9.4+ MB\n"
     ]
    }
   ],
   "source": [
    "\n",
    "# Filter data between 1st Sep 2011 to 30th Dec 2011\n",
    "df3 = df1_filtered_uk_new.loc[(df1_filtered_uk_new['InvoiceDate'] >= '2011-09-01')\n",
    "                     & (df1_filtered_uk_new['InvoiceDate'] <= '2011-12-30')]\n",
    "# Display\n",
    "df3\n",
    "df3.info()\n"
   ]
  },
  {
   "cell_type": "code",
   "execution_count": 45,
   "id": "6c6df3ae-0cb4-459b-817f-5130d140ba08",
   "metadata": {},
   "outputs": [
    {
     "data": {
      "text/plain": [
       "Text(0, 0.5, '%Customers')"
      ]
     },
     "execution_count": 45,
     "metadata": {},
     "output_type": "execute_result"
    },
    {
     "data": {
      "image/png": "[encoded data removed]",
      "text/plain": [
       "<Figure size 1080x432 with 1 Axes>"
      ]
     },
     "metadata": {
      "needs_background": "light"
     },
     "output_type": "display_data"
    }
   ],
   "source": [
    "# Customers from this set who have NOT made any subsequent purchase in the period Sep 2011 to Dec 2011 should be labeled as “Churn”. \n",
    "# All other customers with purchases made during this follow-up period should be labelled as “Not Churn”\n",
    "\n",
    "df_train = df2.assign(Churn=df2.CustomerID.isin(df3.CustomerID).astype(int))\n",
    "\n",
    "df_train \n",
    "# Replace 0 and 1 values with 'To Churn' and 'No Churn' values  in Churn columns\n",
    "# 0 - Customers in df2 are Not present in df3 - These are the customers To Churn\n",
    "# 1 - Customers in df2 are present in df3 - These customers are categorised as No Churn\n",
    "\n",
    "df_train['Churn'] = np.where(df_train['Churn'] == 0, 'To Churn', 'No Churn')\n",
    "\n",
    "#Customers vs Churn\n",
    "temp = df_train.groupby(['Churn'],as_index=False).agg({'CustomerID':'nunique'}).rename(columns = {'CustomerID':'Customers'})\n",
    "total = temp['Customers'].sum(axis=0)\n",
    "temp['%Customers'] = round((temp['Customers']/total)*100,4)\n",
    "\n",
    "temp.sort_values(by=['%Customers'],ascending=False,inplace=True)\n",
    "temp.reset_index(drop=True,inplace=True)\n",
    "plt.figure(figsize=(15,6))\n",
    "#plt.xticks(rotation=90)\n",
    "splot=sns.barplot(x=\"Churn\",y=\"%Customers\",data=temp[:10])\n",
    "for p in splot.patches:\n",
    "    splot.annotate(format(p.get_height(), '.2f'), \n",
    "                   (p.get_x() + p.get_width() / 2., p.get_height()), \n",
    "                   ha = 'center', va = 'center', \n",
    "                   xytext = (0, 5), \n",
    "                   textcoords = 'offset points')\n",
    "plt.xlabel(\"Churn\", size=14)\n",
    "plt.ylabel(\"%Customers\", size=14)\n",
    "\n",
    "\n"
   ]
  },
  {
   "cell_type": "code",
   "execution_count": null,
   "id": "0a5a9818-bc94-409a-9cbb-d64514f1ab90",
   "metadata": {},
   "outputs": [],
   "source": [
    "df_train"
   ]
  },
  {
   "cell_type": "code",
   "execution_count": 62,
   "id": "e429ee13-db70-4a11-a6ac-cbbc8053a78b",
   "metadata": {},
   "outputs": [
    {
     "data": {
      "text/html": [
       "<div>\n",
       "<style scoped>\n",
       "    .dataframe tbody tr th:only-of-type {\n",
       "        vertical-align: middle;\n",
       "    }\n",
       "\n",
       "    .dataframe tbody tr th {\n",
       "        vertical-align: top;\n",
       "    }\n",
       "\n",
       "    .dataframe thead th {\n",
       "        text-align: right;\n",
       "    }\n",
       "</style>\n",
       "<table border=\"1\" class=\"dataframe\">\n",
       "  <thead>\n",
       "    <tr style=\"text-align: right;\">\n",
       "      <th></th>\n",
       "      <th>InvoiceNo</th>\n",
       "      <th>StockCode</th>\n",
       "      <th>Description</th>\n",
       "      <th>Quantity</th>\n",
       "      <th>InvoiceDate</th>\n",
       "      <th>UnitPrice</th>\n",
       "      <th>CustomerID</th>\n",
       "      <th>Churn</th>\n",
       "      <th>TotalSales</th>\n",
       "      <th>year</th>\n",
       "      <th>month</th>\n",
       "      <th>day</th>\n",
       "      <th>weekday</th>\n",
       "    </tr>\n",
       "  </thead>\n",
       "  <tbody>\n",
       "    <tr>\n",
       "      <th>0</th>\n",
       "      <td>536365</td>\n",
       "      <td>85123A</td>\n",
       "      <td>WHITE HANGING HEART T-LIGHT HOLDER</td>\n",
       "      <td>6</td>\n",
       "      <td>2010-12-01 08:26:00</td>\n",
       "      <td>2.55</td>\n",
       "      <td>17850.0</td>\n",
       "      <td>To Churn</td>\n",
       "      <td>15.30</td>\n",
       "      <td>2010</td>\n",
       "      <td>12</td>\n",
       "      <td>1</td>\n",
       "      <td>2</td>\n",
       "    </tr>\n",
       "    <tr>\n",
       "      <th>1</th>\n",
       "      <td>536365</td>\n",
       "      <td>71053</td>\n",
       "      <td>WHITE METAL LANTERN</td>\n",
       "      <td>6</td>\n",
       "      <td>2010-12-01 08:26:00</td>\n",
       "      <td>3.39</td>\n",
       "      <td>17850.0</td>\n",
       "      <td>To Churn</td>\n",
       "      <td>20.34</td>\n",
       "      <td>2010</td>\n",
       "      <td>12</td>\n",
       "      <td>1</td>\n",
       "      <td>2</td>\n",
       "    </tr>\n",
       "    <tr>\n",
       "      <th>2</th>\n",
       "      <td>536365</td>\n",
       "      <td>84406B</td>\n",
       "      <td>CREAM CUPID HEARTS COAT HANGER</td>\n",
       "      <td>8</td>\n",
       "      <td>2010-12-01 08:26:00</td>\n",
       "      <td>2.75</td>\n",
       "      <td>17850.0</td>\n",
       "      <td>To Churn</td>\n",
       "      <td>22.00</td>\n",
       "      <td>2010</td>\n",
       "      <td>12</td>\n",
       "      <td>1</td>\n",
       "      <td>2</td>\n",
       "    </tr>\n",
       "    <tr>\n",
       "      <th>3</th>\n",
       "      <td>536365</td>\n",
       "      <td>84029G</td>\n",
       "      <td>KNITTED UNION FLAG HOT WATER BOTTLE</td>\n",
       "      <td>6</td>\n",
       "      <td>2010-12-01 08:26:00</td>\n",
       "      <td>3.39</td>\n",
       "      <td>17850.0</td>\n",
       "      <td>To Churn</td>\n",
       "      <td>20.34</td>\n",
       "      <td>2010</td>\n",
       "      <td>12</td>\n",
       "      <td>1</td>\n",
       "      <td>2</td>\n",
       "    </tr>\n",
       "    <tr>\n",
       "      <th>4</th>\n",
       "      <td>536365</td>\n",
       "      <td>84029E</td>\n",
       "      <td>RED WOOLLY HOTTIE WHITE HEART.</td>\n",
       "      <td>6</td>\n",
       "      <td>2010-12-01 08:26:00</td>\n",
       "      <td>3.39</td>\n",
       "      <td>17850.0</td>\n",
       "      <td>To Churn</td>\n",
       "      <td>20.34</td>\n",
       "      <td>2010</td>\n",
       "      <td>12</td>\n",
       "      <td>1</td>\n",
       "      <td>2</td>\n",
       "    </tr>\n",
       "    <tr>\n",
       "      <th>...</th>\n",
       "      <td>...</td>\n",
       "      <td>...</td>\n",
       "      <td>...</td>\n",
       "      <td>...</td>\n",
       "      <td>...</td>\n",
       "      <td>...</td>\n",
       "      <td>...</td>\n",
       "      <td>...</td>\n",
       "      <td>...</td>\n",
       "      <td>...</td>\n",
       "      <td>...</td>\n",
       "      <td>...</td>\n",
       "      <td>...</td>\n",
       "    </tr>\n",
       "    <tr>\n",
       "      <th>232041</th>\n",
       "      <td>565067</td>\n",
       "      <td>22644</td>\n",
       "      <td>CERAMIC CHERRY CAKE MONEY BANK</td>\n",
       "      <td>2</td>\n",
       "      <td>2011-08-31 17:16:00</td>\n",
       "      <td>1.45</td>\n",
       "      <td>15856.0</td>\n",
       "      <td>No Churn</td>\n",
       "      <td>2.90</td>\n",
       "      <td>2011</td>\n",
       "      <td>8</td>\n",
       "      <td>31</td>\n",
       "      <td>2</td>\n",
       "    </tr>\n",
       "    <tr>\n",
       "      <th>232042</th>\n",
       "      <td>565067</td>\n",
       "      <td>22645</td>\n",
       "      <td>CERAMIC HEART FAIRY CAKE MONEY BANK</td>\n",
       "      <td>2</td>\n",
       "      <td>2011-08-31 17:16:00</td>\n",
       "      <td>1.45</td>\n",
       "      <td>15856.0</td>\n",
       "      <td>No Churn</td>\n",
       "      <td>2.90</td>\n",
       "      <td>2011</td>\n",
       "      <td>8</td>\n",
       "      <td>31</td>\n",
       "      <td>2</td>\n",
       "    </tr>\n",
       "    <tr>\n",
       "      <th>232043</th>\n",
       "      <td>565067</td>\n",
       "      <td>22637</td>\n",
       "      <td>PIGGY BANK RETROSPOT</td>\n",
       "      <td>2</td>\n",
       "      <td>2011-08-31 17:16:00</td>\n",
       "      <td>2.55</td>\n",
       "      <td>15856.0</td>\n",
       "      <td>No Churn</td>\n",
       "      <td>5.10</td>\n",
       "      <td>2011</td>\n",
       "      <td>8</td>\n",
       "      <td>31</td>\n",
       "      <td>2</td>\n",
       "    </tr>\n",
       "    <tr>\n",
       "      <th>232044</th>\n",
       "      <td>565067</td>\n",
       "      <td>22646</td>\n",
       "      <td>CERAMIC STRAWBERRY CAKE MONEY BANK</td>\n",
       "      <td>2</td>\n",
       "      <td>2011-08-31 17:16:00</td>\n",
       "      <td>1.45</td>\n",
       "      <td>15856.0</td>\n",
       "      <td>No Churn</td>\n",
       "      <td>2.90</td>\n",
       "      <td>2011</td>\n",
       "      <td>8</td>\n",
       "      <td>31</td>\n",
       "      <td>2</td>\n",
       "    </tr>\n",
       "    <tr>\n",
       "      <th>232045</th>\n",
       "      <td>565067</td>\n",
       "      <td>22741</td>\n",
       "      <td>FUNKY DIVA PEN</td>\n",
       "      <td>48</td>\n",
       "      <td>2011-08-31 17:16:00</td>\n",
       "      <td>0.85</td>\n",
       "      <td>15856.0</td>\n",
       "      <td>No Churn</td>\n",
       "      <td>40.80</td>\n",
       "      <td>2011</td>\n",
       "      <td>8</td>\n",
       "      <td>31</td>\n",
       "      <td>2</td>\n",
       "    </tr>\n",
       "  </tbody>\n",
       "</table>\n",
       "<p>200364 rows × 13 columns</p>\n",
       "</div>"
      ],
      "text/plain": [
       "       InvoiceNo StockCode                          Description  Quantity  \\\n",
       "0         536365    85123A   WHITE HANGING HEART T-LIGHT HOLDER         6   \n",
       "1         536365     71053                  WHITE METAL LANTERN         6   \n",
       "2         536365    84406B       CREAM CUPID HEARTS COAT HANGER         8   \n",
       "3         536365    84029G  KNITTED UNION FLAG HOT WATER BOTTLE         6   \n",
       "4         536365    84029E       RED WOOLLY HOTTIE WHITE HEART.         6   \n",
       "...          ...       ...                                  ...       ...   \n",
       "232041    565067     22644       CERAMIC CHERRY CAKE MONEY BANK         2   \n",
       "232042    565067     22645  CERAMIC HEART FAIRY CAKE MONEY BANK         2   \n",
       "232043    565067     22637                PIGGY BANK RETROSPOT          2   \n",
       "232044    565067     22646   CERAMIC STRAWBERRY CAKE MONEY BANK         2   \n",
       "232045    565067     22741                       FUNKY DIVA PEN        48   \n",
       "\n",
       "               InvoiceDate  UnitPrice  CustomerID     Churn  TotalSales  year  \\\n",
       "0      2010-12-01 08:26:00       2.55     17850.0  To Churn       15.30  2010   \n",
       "1      2010-12-01 08:26:00       3.39     17850.0  To Churn       20.34  2010   \n",
       "2      2010-12-01 08:26:00       2.75     17850.0  To Churn       22.00  2010   \n",
       "3      2010-12-01 08:26:00       3.39     17850.0  To Churn       20.34  2010   \n",
       "4      2010-12-01 08:26:00       3.39     17850.0  To Churn       20.34  2010   \n",
       "...                    ...        ...         ...       ...         ...   ...   \n",
       "232041 2011-08-31 17:16:00       1.45     15856.0  No Churn        2.90  2011   \n",
       "232042 2011-08-31 17:16:00       1.45     15856.0  No Churn        2.90  2011   \n",
       "232043 2011-08-31 17:16:00       2.55     15856.0  No Churn        5.10  2011   \n",
       "232044 2011-08-31 17:16:00       1.45     15856.0  No Churn        2.90  2011   \n",
       "232045 2011-08-31 17:16:00       0.85     15856.0  No Churn       40.80  2011   \n",
       "\n",
       "        month  day  weekday  \n",
       "0          12    1        2  \n",
       "1          12    1        2  \n",
       "2          12    1        2  \n",
       "3          12    1        2  \n",
       "4          12    1        2  \n",
       "...       ...  ...      ...  \n",
       "232041      8   31        2  \n",
       "232042      8   31        2  \n",
       "232043      8   31        2  \n",
       "232044      8   31        2  \n",
       "232045      8   31        2  \n",
       "\n",
       "[200364 rows x 13 columns]"
      ]
     },
     "execution_count": 62,
     "metadata": {},
     "output_type": "execute_result"
    }
   ],
   "source": [
    "# Deriving Total Sales\n",
    "df_train['TotalSales'] = df_train['Quantity'] *  df_train['UnitPrice'] \n",
    "\n",
    "\n",
    "# Deriving Month, Day from Invoice Date\n",
    "df_train['year'] = pd.DatetimeIndex(df_train['InvoiceDate']).year\n",
    "df_train['month'] = pd.DatetimeIndex(df_train['InvoiceDate']).month\n",
    "df_train['day'] = pd.DatetimeIndex(df_train['InvoiceDate']).day\n",
    "df_train['weekday'] = pd.DatetimeIndex(df_train['InvoiceDate']).dayofweek #gives only the index(0-monday,6-sunday)\n",
    "# remove rows where Customer ID = 0 and rows containing NaN values\n",
    "#df_train.columns[6]\n",
    "#exists = 0 in df_train.CustomerID\n",
    "#print(exists)\n",
    "\n",
    "# Get indexes where name column has value john and \n",
    "# value column equals to 0.0\n",
    "indexNames = df_train[ (df_train['CustomerID'] == 0.0)].index\n",
    "# Delete these row indexes from dataFrame\n",
    "df_train.drop(indexNames , inplace=True)\n",
    "df_train"
   ]
  },
  {
   "cell_type": "code",
   "execution_count": 63,
   "id": "0d71608e-2db2-4674-a71f-7cd87c5facd0",
   "metadata": {},
   "outputs": [
    {
     "name": "stdout",
     "output_type": "stream",
     "text": [
      "AxesSubplot(0.125,0.125;0.775x0.755)\n",
      "AxesSubplot(0.125,0.125;0.775x0.755)\n"
     ]
    },
    {
     "data": {
      "text/plain": [
       "Text(0, 0.5, 'Quantity, TotalSales')"
      ]
     },
     "execution_count": 63,
     "metadata": {},
     "output_type": "execute_result"
    },
    {
     "data": {
      "image/png": "[encoded data removed]",
      "text/plain": [
       "<Figure size 432x288 with 1 Axes>"
      ]
     },
     "metadata": {
      "needs_background": "light"
     },
     "output_type": "display_data"
    },
    {
     "data": {
      "image/png": "[encoded data removed]",
      "text/plain": [
       "<Figure size 432x288 with 1 Axes>"
      ]
     },
     "metadata": {
      "needs_background": "light"
     },
     "output_type": "display_data"
    },
    {
     "data": {
      "image/png": "[encoded data removed]",
      "text/plain": [
       "<Figure size 432x288 with 1 Axes>"
      ]
     },
     "metadata": {
      "needs_background": "light"
     },
     "output_type": "display_data"
    },
    {
     "data": {
      "image/png": "[encoded data removed]",
      "text/plain": [
       "<Figure size 432x288 with 1 Axes>"
      ]
     },
     "metadata": {
      "needs_background": "light"
     },
     "output_type": "display_data"
    },
    {
     "data": {
      "image/png": "[encoded data removed]",
      "text/plain": [
       "<Figure size 720x360 with 1 Axes>"
      ]
     },
     "metadata": {
      "needs_background": "light"
     },
     "output_type": "display_data"
    }
   ],
   "source": [
    "rep_plot = df_train.groupby(\"month\").agg({'TotalSales':'sum'}).plot(kind='bar')\n",
    "rep_plot.set_xlabel(\"year\")\n",
    "rep_plot.set_ylabel(\"TotalSales\")\n",
    "\n",
    "rep_plot = df_train.groupby(\"year\").agg({'TotalSales':'sum'}).plot(kind='bar')\n",
    "rep_plot.set_xlabel(\"year\")\n",
    "rep_plot.set_ylabel(\"TotalSales\")\n",
    "\n",
    "result = df_train.groupby([df_train['year'], df_train['year']]).agg({'TotalSales':sum}).plot(kind='bar')\n",
    "print(result)\n",
    "result.set_xlabel(\"year\")\n",
    "result.set_ylabel(\"TotalSales\")\n",
    "\n",
    "result = df_train.groupby([df_train['weekday']]).agg({'TotalSales':sum}).plot(kind='bar')\n",
    "print(result)\n",
    "result.set_xlabel(\"weekday\")\n",
    "result.set_ylabel(\"TotalSales\")\n",
    "\n",
    "modifed_df = df_train[['Quantity','TotalSales','year','month']].copy()\n",
    "date_df = modifed_df.groupby(['year','month']).sum()\n",
    "total_values = date_df.sort_values('year',ascending=True)\n",
    "total_values.plot(kind='bar',figsize=(10,5),title='Graph show total sales and quatities at each month')\n",
    "plt.ylabel('Quantity, TotalSales')\n",
    "\n",
    "\n"
   ]
  },
  {
   "cell_type": "code",
   "execution_count": 76,
   "id": "58837352-1cbe-42b4-a4bf-c80230060579",
   "metadata": {},
   "outputs": [],
   "source": [
    "# Top 20 products by sales\n",
    "modifed_df = df_train[['StockCode','TotalSales']].copy()\n",
    "\n",
    "prod_sales = pd.DataFrame(modifed_df.groupby('StockCode').sum()['TotalSales'])\n",
    "\n",
    "prod_sales.sort_values(by=['TotalSales'], inplace=True, ascending=False)\n",
    "\n",
    "top_prods = prod_sales.head(20)\n",
    "\n",
    "top_prods\n",
    "top_prods.plot(kind='bar',figsize=(10,5),title='Graph show top 20 product by total sales')\n",
    "plt.ylabel('TotalSales')\n",
    "#---------------------------------------------------------------------------------------\n",
    "modifed_df = df_train[['StockCode','TotalSales']].copy()\n",
    "\n",
    "prod_sales = pd.DataFrame(modifed_df.groupby('StockCode').mean()['TotalSales'])\n",
    "\n",
    "prod_sales.sort_values(by=['TotalSales'], inplace=True, ascending=False)\n",
    "\n",
    "top_prods = prod_sales.head(20)\n",
    "\n",
    "top_prods\n",
    "top_prods.plot(kind='bar',figsize=(10,5),title='Graph show top 20 product by Avg sales')\n",
    "plt.ylabel('TotalSales')\n",
    "\n",
    "prod_sales = pd.DataFrame(modifed_df.groupby('StockCode').sum()['TotalSales'])\n",
    "prod_sales.plot(kind='box')\n",
    "#set title,xlabel,ylabel\n",
    "plt.title('Sales Analysis by product')"
   ]
  },
  {
   "cell_type": "code",
   "execution_count": 76,
   "id": "4a25c987-862c-45bb-877a-dff230470d4d",
   "metadata": {},
   "outputs": [
    {
     "data": {
      "text/plain": [
       "Text(0.5, 1.0, 'Sales Analysis by product')"
      ]
     },
     "execution_count": 76,
     "metadata": {},
     "output_type": "execute_result"
    },
    {
     "data": {
      "image/png": "[encoded data removed]",
      "text/plain": [
       "<Figure size 720x360 with 1 Axes>"
      ]
     },
     "metadata": {
      "needs_background": "light"
     },
     "output_type": "display_data"
    },
    {
     "data": {
      "image/png": "[encoded data removed]",
      "text/plain": [
       "<Figure size 720x360 with 1 Axes>"
      ]
     },
     "metadata": {
      "needs_background": "light"
     },
     "output_type": "display_data"
    },
    {
     "data": {
      "image/png": "[encoded data removed]",
      "text/plain": [
       "<Figure size 432x288 with 1 Axes>"
      ]
     },
     "metadata": {
      "needs_background": "light"
     },
     "output_type": "display_data"
    }
   ],
   "source": [
    "# Top 20 products by customers\n",
    "modifed_df = df_train[['CustomerID','TotalSales']].copy()\n",
    "\n",
    "cust_sales = pd.DataFrame(modifed_df.groupby('CustomerID').sum()['TotalSales'])\n",
    "\n",
    "cust_sales.sort_values(by=['CustomerID'], inplace=True, ascending=False)\n",
    "\n",
    "top_cust = cust_sales.head(20)\n",
    "\n",
    "top_cust\n",
    "top_cust.plot(kind='bar',figsize=(10,5),title='Graph show top 20 product by total sales')\n",
    "plt.ylabel('TotalSales')\n",
    "#---------------------------------------------------------------------------------------\n",
    "modifed_df = df_train[['CustomerID','TotalSales']].copy()\n",
    "\n",
    "cust_sales = pd.DataFrame(modifed_df.groupby('CustomerID').mean()['TotalSales'])\n",
    "\n",
    "cust_sales.sort_values(by=['TotalSales'], inplace=True, ascending=False)\n",
    "\n",
    "top_cust = cust_sales.head(20)\n",
    "\n",
    "top_cust\n",
    "top_cust.plot(kind='bar',figsize=(10,5),title='Graph show top 20 product by Avg sales')\n",
    "plt.ylabel('TotalSales')\n",
    "\n",
    "cust_sales = pd.DataFrame(modifed_df.groupby('CustomerID').sum()['TotalSales'])\n",
    "cust_sales.plot(kind='box')\n",
    "#set title,xlabel,ylabel\n",
    "plt.title('Sales Analysis by product')"
   ]
  },
  {
   "cell_type": "code",
   "execution_count": 76,
   "id": "39bd09f0-2e3a-44c0-9e9e-766eb92d94a4",
   "metadata": {},
   "outputs": [],
   "source": [
    "# Top 10 products by sales\n",
    "modifed_df = df_train[['StockCode','TotalSales']].copy()\n",
    "\n",
    "prod_sales = pd.DataFrame(modifed_df.groupby('StockCode').sum()['TotalSales'])\n",
    "\n",
    "prod_sales.sort_values(by=['TotalSales'], inplace=True, ascending=False)\n",
    "\n",
    "top_prods = prod_sales.head(20)\n",
    "\n",
    "top_prods\n",
    "top_prods.plot(kind='bar',figsize=(10,5),title='Graph show top 20 product by total sales')\n",
    "plt.ylabel('TotalSales')\n",
    "#---------------------------------------------------------------------------------------\n",
    "modifed_df = df_train[['StockCode','TotalSales']].copy()\n",
    "\n",
    "prod_sales = pd.DataFrame(modifed_df.groupby('StockCode').mean()['TotalSales'])\n",
    "\n",
    "prod_sales.sort_values(by=['TotalSales'], inplace=True, ascending=False)\n",
    "\n",
    "top_prods = prod_sales.head(20)\n",
    "\n",
    "top_prods\n",
    "top_prods.plot(kind='bar',figsize=(10,5),title='Graph show top 20 product by Avg sales')\n",
    "plt.ylabel('TotalSales')\n",
    "\n",
    "prod_sales = pd.DataFrame(modifed_df.groupby('StockCode').sum()['TotalSales'])\n",
    "prod_sales.plot(kind='box')\n",
    "#set title,xlabel,ylabel\n",
    "plt.title('Sales Analysis by product')"
   ]
  },
  {
   "cell_type": "code",
   "execution_count": null,
   "id": "96cf7a2d-0506-4924-8bcf-cb7e68fb6849",
   "metadata": {},
   "outputs": [],
   "source": [
    "# Customer level analysis\n",
    "# Adding one more day to the max data, so that the max date will have 1 as the difference and not zero.\n",
    "\n",
    "\n",
    "temp = df_train.groupby('CustomerID').agg({'InvoiceDate':lambda x: (x.max()+pd.DateOffset(days = 1)- x.min()).days, 'InvoiceNo':lambda x:len(x), 'TotalSales':lambda x:sum(x)})\n",
    "temp.columns = ['Recency','Freq','Value']\n",
    "temp.dropna(subset = ['Recency'], inplace=True)\n",
    "temp.sort_values(by=['Recency'],ascending=False)"
   ]
  },
  {
   "cell_type": "code",
   "execution_count": null,
   "id": "c6d63085-7f66-4514-ae23-ada84fe7dd1f",
   "metadata": {},
   "outputs": [],
   "source": [
    "# Outlier treatment\n",
    "#fig, axs = plt.subplots(1,3, figsize = (15,5))\n",
    "\n",
    "#sns.boxplot(temp.Value, ax = axs[0])\n",
    "#sns.boxplot(temp.Freq, ax = axs[1])\n",
    "#sns.boxplot(temp.Recency, ax = axs[2])\n",
    "\n",
    "#we see that the plot contain outliers\n",
    "# outlier treatment for Recency, Freq, Value\n",
    "Q1 = temp.Recency.quantile(0.25)\n",
    "Q3 = temp.Recency.quantile(0.75)\n",
    "IQR1 = Q3 - Q1\n",
    "temp = temp[(temp.Recency >= Q1 - 1.5*IQR1) & (temp.Recency <= Q3 + 1.5*IQR1)]\n",
    "\n",
    "Q1 = temp.Freq.quantile(0.25)\n",
    "Q3 = temp.Freq.quantile(0.75)\n",
    "IQR2 = Q3 - Q1\n",
    "temp = temp[(temp.Freq >= Q1 - 1.5*IQR2) & (temp.Freq <= Q3 + 1.5*IQR2)]\n",
    "\n",
    "Q1 = temp.Value.quantile(0.25)\n",
    "Q3 = temp.Value.quantile(0.75)\n",
    "IQR3 = Q3 - Q1\n",
    "temp = temp[(temp.Value >= Q1 - 1.5*IQR3) & (temp.Value <= Q3 + 1.5*IQR3)]\n",
    "\n",
    "fig, axs = plt.subplots(1,3, figsize = (15,5))\n",
    "\n",
    "sns.boxplot(temp.Value, ax = axs[0])\n",
    "sns.boxplot(temp.Freq, ax = axs[1])\n",
    "sns.boxplot(temp.Recency, ax = axs[2])"
   ]
  },
  {
   "cell_type": "code",
   "execution_count": null,
   "id": "32a60d05-1a38-41b8-b646-074582e71d10",
   "metadata": {},
   "outputs": [],
   "source": [
    "# To Scale our RFM data\n",
    "from sklearn.preprocessing import scale\n",
    "from sklearn.preprocessing import StandardScaler\n",
    "\n",
    "standard_scaler = StandardScaler()\n",
    "temp_norm1 = standard_scaler.fit_transform(temp)\n",
    "temp_norm1 = pd.DataFrame(temp_norm1)\n",
    "temp_norm1.columns = ['Recency','Freq','Value']\n",
    "temp_norm1.head()\n",
    "\n",
    "\n"
   ]
  },
  {
   "cell_type": "code",
   "execution_count": null,
   "id": "23aaa2d2-a706-435f-b2c1-a6af9d6f3823",
   "metadata": {},
   "outputs": [],
   "source": [
    "df_train\n",
    "# To perform KMeans clustering \n",
    "from sklearn.cluster import KMeans\n",
    "#Here, X is our feature set; it contains all the columns except the one that we have to predict (Churn). \n",
    "# The label set, y, contains only the Churn column.\n",
    "\n",
    "X =  df_train.drop(['Churn'], axis=1)\n",
    "Y = df_train['Churn']\n",
    "#we calculate the Within Cluster Sum of Squared Errors (WSS) for different values of k. \n",
    "#Next, we choose the k for which WSS first starts to diminish. This value of K gives us the best number of clusters to make from the raw data.\n",
    "wcss=[]\n",
    "for i in range(1,11):\n",
    "    km=KMeans(n_clusters=i)\n",
    "    km.fit(X)\n",
    "    wcss.append(km.inertia_)\n",
    "    "
   ]
  },
  {
   "cell_type": "code",
   "execution_count": null,
   "id": "1fff87fe-6367-4ebc-80f6-b00d50468f03",
   "metadata": {},
   "outputs": [],
   "source": [
    "df_train.dtypes"
   ]
  },
  {
   "cell_type": "code",
   "execution_count": null,
   "id": "d65b33b0-8f1e-4a72-bb64-680dda9f19f0",
   "metadata": {},
   "outputs": [],
   "source": [
    "#Here, X is our feature set; it contains all the columns except the one that we have to predict (Churn). \n",
    "# The label set, y, contains only the Churn column.\n",
    "\n",
    "X =  df_train.drop(['InDF3'], axis=1)\n",
    "Y = df_train['InDF3']\n",
    "\n",
    "#We'll use 20% of the data for the test set and the remaining 80% for the training set \n",
    "from sklearn.model_selection import train_test_split\n",
    "X_train, X_test, Y_train, Y_test = train_test_split(X, Y, test_size = 0.2, random_state = 0)"
   ]
  },
  {
   "cell_type": "code",
   "execution_count": null,
   "id": "4110d421-0b05-413c-806c-82784cf951ab",
   "metadata": {},
   "outputs": [],
   "source": [
    "from sklearn.ensemble import RandomForestClassifier\n",
    "classifier = RandomForestClassifier(n_estimators=200, random_state=0) \n",
    "classifier.fit(X, Y)\n",
    " "
   ]
  },
  {
   "cell_type": "code",
   "execution_count": null,
   "id": "4fbeae00-1b6a-48c0-bec7-9d809d8d3037",
   "metadata": {},
   "outputs": [],
   "source": []
  }
 ],
 "metadata": {
  "kernelspec": {
   "display_name": "Python 3",
   "language": "python",
   "name": "python3"
  },
  "language_info": {
   "codemirror_mode": {
    "name": "ipython",
    "version": 3
   },
   "file_extension": ".py",
   "mimetype": "text/x-python",
   "name": "python",
   "nbconvert_exporter": "python",
   "pygments_lexer": "ipython3",
   "version": "3.8.8"
  }
 },
 "nbformat": 4,
 "nbformat_minor": 5
}
